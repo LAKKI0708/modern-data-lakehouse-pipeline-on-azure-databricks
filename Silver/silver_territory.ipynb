{
 "cells": [
  {
   "cell_type": "code",
   "execution_count": 0,
   "metadata": {
    "application/vnd.databricks.v1+cell": {
     "cellMetadata": {
      "byteLimit": 2048000,
      "rowLimit": 10000
     },
     "inputWidgets": {},
     "nuid": "99287767-91f3-46a5-97a1-99a4f3180086",
     "showTitle": false,
     "tableResultSettingsMap": {},
     "title": ""
    }
   },
   "outputs": [],
   "source": [
    "from pyspark import *\n",
    "from pyspark.sql.functions import *\n",
    "from pyspark.sql.types import *"
   ]
  },
  {
   "cell_type": "code",
   "execution_count": 0,
   "metadata": {
    "application/vnd.databricks.v1+cell": {
     "cellMetadata": {
      "byteLimit": 2048000,
      "rowLimit": 10000
     },
     "inputWidgets": {},
     "nuid": "a45f8099-c4d7-4cb0-b070-1843d6b67030",
     "showTitle": false,
     "tableResultSettingsMap": {},
     "title": ""
    }
   },
   "outputs": [
    {
     "output_type": "display_data",
     "data": {
      "text/html": [
       "<style scoped>\n",
       "  .table-result-container {\n",
       "    max-height: 300px;\n",
       "    overflow: auto;\n",
       "  }\n",
       "  table, th, td {\n",
       "    border: 1px solid black;\n",
       "    border-collapse: collapse;\n",
       "  }\n",
       "  th, td {\n",
       "    padding: 5px;\n",
       "  }\n",
       "  th {\n",
       "    text-align: left;\n",
       "  }\n",
       "</style><div class='table-result-container'><table class='table-result'><thead style='background-color: white'><tr><th>TerritoryID</th><th>Name</th><th>CountryRegionCode</th><th>Group</th><th>SalesYTD</th><th>SalesLastYear</th><th>CostYTD</th><th>CostLastYear</th><th>rowguid</th><th>ModifiedDate</th><th>_rescued_data</th></tr></thead><tbody><tr><td>1</td><td>Northwest</td><td>US</td><td>North America</td><td>7887186.7882</td><td>3298694.4938</td><td>0.0</td><td>0.0</td><td>43689A10-E30B-497F-B0DE-11DE20267FF7</td><td>2008-04-30 00:00:00.000</td><td>null</td></tr><tr><td>2</td><td>Northeast</td><td>US</td><td>North America</td><td>2402176.8476</td><td>3607148.9371</td><td>0.0</td><td>0.0</td><td>00FB7309-96CC-49E2-8363-0A1BA72486F2</td><td>2008-04-30 00:00:00.000</td><td>null</td></tr><tr><td>3</td><td>Central</td><td>US</td><td>North America</td><td>3072175.118</td><td>3205014.0767</td><td>0.0</td><td>0.0</td><td>DF6E7FD8-1A8D-468C-B103-ED8ADDB452C1</td><td>2008-04-30 00:00:00.000</td><td>null</td></tr><tr><td>4</td><td>Southwest</td><td>US</td><td>North America</td><td>1.05108538739E7</td><td>5366575.7098</td><td>0.0</td><td>0.0</td><td>DC3E9EA0-7950-4431-9428-99DBCBC33865</td><td>2008-04-30 00:00:00.000</td><td>null</td></tr><tr><td>5</td><td>Southeast</td><td>US</td><td>North America</td><td>2538667.2515</td><td>3925071.4318</td><td>0.0</td><td>0.0</td><td>6DC4165A-5E4C-42D2-809D-4344E0AC75E7</td><td>2008-04-30 00:00:00.000</td><td>null</td></tr><tr><td>6</td><td>Canada</td><td>CA</td><td>North America</td><td>6771829.1376</td><td>5693988.86</td><td>0.0</td><td>0.0</td><td>06B4AF8A-1639-476E-9266-110461D66B00</td><td>2008-04-30 00:00:00.000</td><td>null</td></tr><tr><td>7</td><td>France</td><td>FR</td><td>Europe</td><td>4772398.3078</td><td>2396539.7601</td><td>0.0</td><td>0.0</td><td>BF806804-9B4C-4B07-9D19-706F2E689552</td><td>2008-04-30 00:00:00.000</td><td>null</td></tr><tr><td>8</td><td>Germany</td><td>DE</td><td>Europe</td><td>3805202.3478</td><td>1307949.7917</td><td>0.0</td><td>0.0</td><td>6D2450DB-8159-414F-A917-E73EE91C38A9</td><td>2008-04-30 00:00:00.000</td><td>null</td></tr><tr><td>9</td><td>Australia</td><td>AU</td><td>Pacific</td><td>5977814.9154</td><td>2278548.9776</td><td>0.0</td><td>0.0</td><td>602E612E-DFE9-41D9-B894-27E489747885</td><td>2008-04-30 00:00:00.000</td><td>null</td></tr><tr><td>10</td><td>United Kingdom</td><td>GB</td><td>Europe</td><td>5012905.3656</td><td>1635823.3967</td><td>0.0</td><td>0.0</td><td>05FC7E1F-2DEA-414E-9ECD-09D150516FB5</td><td>2008-04-30 00:00:00.000</td><td>null</td></tr></tbody></table></div>"
      ]
     },
     "metadata": {
      "application/vnd.databricks.v1+output": {
       "addedWidgets": {},
       "aggData": [],
       "aggError": "",
       "aggOverflow": false,
       "aggSchema": [],
       "aggSeriesLimitReached": false,
       "aggType": "",
       "arguments": {},
       "columnCustomDisplayInfos": {},
       "data": [
        [
         1,
         "Northwest",
         "US",
         "North America",
         7887186.7882,
         3298694.4938,
         0.0,
         0.0,
         "43689A10-E30B-497F-B0DE-11DE20267FF7",
         "2008-04-30 00:00:00.000",
         null
        ],
        [
         2,
         "Northeast",
         "US",
         "North America",
         2402176.8476,
         3607148.9371,
         0.0,
         0.0,
         "00FB7309-96CC-49E2-8363-0A1BA72486F2",
         "2008-04-30 00:00:00.000",
         null
        ],
        [
         3,
         "Central",
         "US",
         "North America",
         3072175.118,
         3205014.0767,
         0.0,
         0.0,
         "DF6E7FD8-1A8D-468C-B103-ED8ADDB452C1",
         "2008-04-30 00:00:00.000",
         null
        ],
        [
         4,
         "Southwest",
         "US",
         "North America",
         1.05108538739E7,
         5366575.7098,
         0.0,
         0.0,
         "DC3E9EA0-7950-4431-9428-99DBCBC33865",
         "2008-04-30 00:00:00.000",
         null
        ],
        [
         5,
         "Southeast",
         "US",
         "North America",
         2538667.2515,
         3925071.4318,
         0.0,
         0.0,
         "6DC4165A-5E4C-42D2-809D-4344E0AC75E7",
         "2008-04-30 00:00:00.000",
         null
        ],
        [
         6,
         "Canada",
         "CA",
         "North America",
         6771829.1376,
         5693988.86,
         0.0,
         0.0,
         "06B4AF8A-1639-476E-9266-110461D66B00",
         "2008-04-30 00:00:00.000",
         null
        ],
        [
         7,
         "France",
         "FR",
         "Europe",
         4772398.3078,
         2396539.7601,
         0.0,
         0.0,
         "BF806804-9B4C-4B07-9D19-706F2E689552",
         "2008-04-30 00:00:00.000",
         null
        ],
        [
         8,
         "Germany",
         "DE",
         "Europe",
         3805202.3478,
         1307949.7917,
         0.0,
         0.0,
         "6D2450DB-8159-414F-A917-E73EE91C38A9",
         "2008-04-30 00:00:00.000",
         null
        ],
        [
         9,
         "Australia",
         "AU",
         "Pacific",
         5977814.9154,
         2278548.9776,
         0.0,
         0.0,
         "602E612E-DFE9-41D9-B894-27E489747885",
         "2008-04-30 00:00:00.000",
         null
        ],
        [
         10,
         "United Kingdom",
         "GB",
         "Europe",
         5012905.3656,
         1635823.3967,
         0.0,
         0.0,
         "05FC7E1F-2DEA-414E-9ECD-09D150516FB5",
         "2008-04-30 00:00:00.000",
         null
        ]
       ],
       "datasetInfos": [],
       "dbfsResultPath": null,
       "isJsonSchema": true,
       "metadata": {},
       "overflow": false,
       "plotOptions": {
        "customPlotOptions": {},
        "displayType": "table",
        "pivotAggregation": null,
        "pivotColumns": null,
        "xColumns": null,
        "yColumns": null
       },
       "removedWidgets": [],
       "schema": [
        {
         "metadata": "{}",
         "name": "TerritoryID",
         "type": "\"long\""
        },
        {
         "metadata": "{}",
         "name": "Name",
         "type": "\"string\""
        },
        {
         "metadata": "{}",
         "name": "CountryRegionCode",
         "type": "\"string\""
        },
        {
         "metadata": "{}",
         "name": "Group",
         "type": "\"string\""
        },
        {
         "metadata": "{}",
         "name": "SalesYTD",
         "type": "\"double\""
        },
        {
         "metadata": "{}",
         "name": "SalesLastYear",
         "type": "\"double\""
        },
        {
         "metadata": "{}",
         "name": "CostYTD",
         "type": "\"double\""
        },
        {
         "metadata": "{}",
         "name": "CostLastYear",
         "type": "\"double\""
        },
        {
         "metadata": "{}",
         "name": "rowguid",
         "type": "\"string\""
        },
        {
         "metadata": "{}",
         "name": "ModifiedDate",
         "type": "\"string\""
        },
        {
         "metadata": "{}",
         "name": "_rescued_data",
         "type": "\"string\""
        }
       ],
       "type": "table"
      }
     },
     "output_type": "display_data"
    }
   ],
   "source": [
    "df_territory = spark.read.table(\"advenworks_cata.bronze.salesterritory\")\n",
    "df_territory.display()"
   ]
  },
  {
   "cell_type": "code",
   "execution_count": 0,
   "metadata": {
    "application/vnd.databricks.v1+cell": {
     "cellMetadata": {
      "byteLimit": 2048000,
      "rowLimit": 10000
     },
     "inputWidgets": {},
     "nuid": "d2d22eec-2887-474f-a199-dd59087b6317",
     "showTitle": false,
     "tableResultSettingsMap": {},
     "title": ""
    }
   },
   "outputs": [
    {
     "output_type": "display_data",
     "data": {
      "text/html": [
       "<style scoped>\n",
       "  .table-result-container {\n",
       "    max-height: 300px;\n",
       "    overflow: auto;\n",
       "  }\n",
       "  table, th, td {\n",
       "    border: 1px solid black;\n",
       "    border-collapse: collapse;\n",
       "  }\n",
       "  th, td {\n",
       "    padding: 5px;\n",
       "  }\n",
       "  th {\n",
       "    text-align: left;\n",
       "  }\n",
       "</style><div class='table-result-container'><table class='table-result'><thead style='background-color: white'><tr><th>TerritoryID</th><th>Name</th><th>CountryRegionCode</th><th>Group</th><th>SalesYTD</th><th>SalesLastYear</th><th>CostYTD</th><th>CostLastYear</th><th>rowguid</th><th>ModifiedDate</th></tr></thead><tbody><tr><td>1</td><td>Northwest</td><td>US</td><td>North America</td><td>7887186.7882</td><td>3298694.4938</td><td>0.0</td><td>0.0</td><td>43689A10-E30B-497F-B0DE-11DE20267FF7</td><td>2008-04-30T00:00:00.000Z</td></tr><tr><td>2</td><td>Northeast</td><td>US</td><td>North America</td><td>2402176.8476</td><td>3607148.9371</td><td>0.0</td><td>0.0</td><td>00FB7309-96CC-49E2-8363-0A1BA72486F2</td><td>2008-04-30T00:00:00.000Z</td></tr><tr><td>3</td><td>Central</td><td>US</td><td>North America</td><td>3072175.118</td><td>3205014.0767</td><td>0.0</td><td>0.0</td><td>DF6E7FD8-1A8D-468C-B103-ED8ADDB452C1</td><td>2008-04-30T00:00:00.000Z</td></tr><tr><td>4</td><td>Southwest</td><td>US</td><td>North America</td><td>1.05108538739E7</td><td>5366575.7098</td><td>0.0</td><td>0.0</td><td>DC3E9EA0-7950-4431-9428-99DBCBC33865</td><td>2008-04-30T00:00:00.000Z</td></tr><tr><td>5</td><td>Southeast</td><td>US</td><td>North America</td><td>2538667.2515</td><td>3925071.4318</td><td>0.0</td><td>0.0</td><td>6DC4165A-5E4C-42D2-809D-4344E0AC75E7</td><td>2008-04-30T00:00:00.000Z</td></tr><tr><td>6</td><td>Canada</td><td>CA</td><td>North America</td><td>6771829.1376</td><td>5693988.86</td><td>0.0</td><td>0.0</td><td>06B4AF8A-1639-476E-9266-110461D66B00</td><td>2008-04-30T00:00:00.000Z</td></tr><tr><td>7</td><td>France</td><td>FR</td><td>Europe</td><td>4772398.3078</td><td>2396539.7601</td><td>0.0</td><td>0.0</td><td>BF806804-9B4C-4B07-9D19-706F2E689552</td><td>2008-04-30T00:00:00.000Z</td></tr><tr><td>8</td><td>Germany</td><td>DE</td><td>Europe</td><td>3805202.3478</td><td>1307949.7917</td><td>0.0</td><td>0.0</td><td>6D2450DB-8159-414F-A917-E73EE91C38A9</td><td>2008-04-30T00:00:00.000Z</td></tr><tr><td>9</td><td>Australia</td><td>AU</td><td>Pacific</td><td>5977814.9154</td><td>2278548.9776</td><td>0.0</td><td>0.0</td><td>602E612E-DFE9-41D9-B894-27E489747885</td><td>2008-04-30T00:00:00.000Z</td></tr><tr><td>10</td><td>United Kingdom</td><td>GB</td><td>Europe</td><td>5012905.3656</td><td>1635823.3967</td><td>0.0</td><td>0.0</td><td>05FC7E1F-2DEA-414E-9ECD-09D150516FB5</td><td>2008-04-30T00:00:00.000Z</td></tr></tbody></table></div>"
      ]
     },
     "metadata": {
      "application/vnd.databricks.v1+output": {
       "addedWidgets": {},
       "aggData": [],
       "aggError": "",
       "aggOverflow": false,
       "aggSchema": [],
       "aggSeriesLimitReached": false,
       "aggType": "",
       "arguments": {},
       "columnCustomDisplayInfos": {},
       "data": [
        [
         1,
         "Northwest",
         "US",
         "North America",
         7887186.7882,
         3298694.4938,
         0.0,
         0.0,
         "43689A10-E30B-497F-B0DE-11DE20267FF7",
         "2008-04-30T00:00:00.000Z"
        ],
        [
         2,
         "Northeast",
         "US",
         "North America",
         2402176.8476,
         3607148.9371,
         0.0,
         0.0,
         "00FB7309-96CC-49E2-8363-0A1BA72486F2",
         "2008-04-30T00:00:00.000Z"
        ],
        [
         3,
         "Central",
         "US",
         "North America",
         3072175.118,
         3205014.0767,
         0.0,
         0.0,
         "DF6E7FD8-1A8D-468C-B103-ED8ADDB452C1",
         "2008-04-30T00:00:00.000Z"
        ],
        [
         4,
         "Southwest",
         "US",
         "North America",
         1.05108538739E7,
         5366575.7098,
         0.0,
         0.0,
         "DC3E9EA0-7950-4431-9428-99DBCBC33865",
         "2008-04-30T00:00:00.000Z"
        ],
        [
         5,
         "Southeast",
         "US",
         "North America",
         2538667.2515,
         3925071.4318,
         0.0,
         0.0,
         "6DC4165A-5E4C-42D2-809D-4344E0AC75E7",
         "2008-04-30T00:00:00.000Z"
        ],
        [
         6,
         "Canada",
         "CA",
         "North America",
         6771829.1376,
         5693988.86,
         0.0,
         0.0,
         "06B4AF8A-1639-476E-9266-110461D66B00",
         "2008-04-30T00:00:00.000Z"
        ],
        [
         7,
         "France",
         "FR",
         "Europe",
         4772398.3078,
         2396539.7601,
         0.0,
         0.0,
         "BF806804-9B4C-4B07-9D19-706F2E689552",
         "2008-04-30T00:00:00.000Z"
        ],
        [
         8,
         "Germany",
         "DE",
         "Europe",
         3805202.3478,
         1307949.7917,
         0.0,
         0.0,
         "6D2450DB-8159-414F-A917-E73EE91C38A9",
         "2008-04-30T00:00:00.000Z"
        ],
        [
         9,
         "Australia",
         "AU",
         "Pacific",
         5977814.9154,
         2278548.9776,
         0.0,
         0.0,
         "602E612E-DFE9-41D9-B894-27E489747885",
         "2008-04-30T00:00:00.000Z"
        ],
        [
         10,
         "United Kingdom",
         "GB",
         "Europe",
         5012905.3656,
         1635823.3967,
         0.0,
         0.0,
         "05FC7E1F-2DEA-414E-9ECD-09D150516FB5",
         "2008-04-30T00:00:00.000Z"
        ]
       ],
       "datasetInfos": [],
       "dbfsResultPath": null,
       "isJsonSchema": true,
       "metadata": {},
       "overflow": false,
       "plotOptions": {
        "customPlotOptions": {},
        "displayType": "table",
        "pivotAggregation": null,
        "pivotColumns": null,
        "xColumns": null,
        "yColumns": null
       },
       "removedWidgets": [],
       "schema": [
        {
         "metadata": "{}",
         "name": "TerritoryID",
         "type": "\"long\""
        },
        {
         "metadata": "{}",
         "name": "Name",
         "type": "\"string\""
        },
        {
         "metadata": "{}",
         "name": "CountryRegionCode",
         "type": "\"string\""
        },
        {
         "metadata": "{}",
         "name": "Group",
         "type": "\"string\""
        },
        {
         "metadata": "{}",
         "name": "SalesYTD",
         "type": "\"double\""
        },
        {
         "metadata": "{}",
         "name": "SalesLastYear",
         "type": "\"double\""
        },
        {
         "metadata": "{}",
         "name": "CostYTD",
         "type": "\"double\""
        },
        {
         "metadata": "{}",
         "name": "CostLastYear",
         "type": "\"double\""
        },
        {
         "metadata": "{}",
         "name": "rowguid",
         "type": "\"string\""
        },
        {
         "metadata": "{}",
         "name": "ModifiedDate",
         "type": "\"timestamp\""
        }
       ],
       "type": "table"
      }
     },
     "output_type": "display_data"
    }
   ],
   "source": [
    "df_territory = df_territory.drop(\"_rescued_data\")\n",
    "df_territory = df_territory.withColumn(\"ModifiedDate\", to_timestamp(col(\"ModifiedDate\")))\n",
    "\n",
    "df_territory.display()  "
   ]
  },
  {
   "cell_type": "code",
   "execution_count": 0,
   "metadata": {
    "application/vnd.databricks.v1+cell": {
     "cellMetadata": {
      "byteLimit": 2048000,
      "rowLimit": 10000
     },
     "inputWidgets": {},
     "nuid": "39f996e9-64a9-4d89-8b49-3b9df4e2df80",
     "showTitle": false,
     "tableResultSettingsMap": {},
     "title": ""
    }
   },
   "outputs": [],
   "source": [
    "df_territory.write.format(\"delta\").mode(\"overwrite\").option(\"path\",\"abfss://silver@advenworksdl.dfs.core.windows.net/territory\").save()"
   ]
  },
  {
   "cell_type": "code",
   "execution_count": 0,
   "metadata": {
    "application/vnd.databricks.v1+cell": {
     "cellMetadata": {},
     "inputWidgets": {},
     "nuid": "e9157402-9561-461a-93b6-95d5bf0a0be1",
     "showTitle": false,
     "tableResultSettingsMap": {},
     "title": ""
    }
   },
   "outputs": [],
   "source": [
    "%sql\n",
    "CREATE TABLE IF NOT EXISTS advenworks_cata.silver.territory_silver\n",
    "USING DELTA\n",
    "LOCATION 'abfss://silver@advenworksdl.dfs.core.windows.net/territory'"
   ]
  }
 ],
 "metadata": {
  "application/vnd.databricks.v1+notebook": {
   "computePreferences": null,
   "dashboards": [],
   "environmentMetadata": {
    "base_environment": "",
    "environment_version": "2"
   },
   "inputWidgetPreferences": null,
   "language": "python",
   "notebookMetadata": {
    "pythonIndentUnit": 4
   },
   "notebookName": "silver_territory",
   "widgets": {}
  },
  "language_info": {
   "name": "python"
  }
 },
 "nbformat": 4,
 "nbformat_minor": 0
}