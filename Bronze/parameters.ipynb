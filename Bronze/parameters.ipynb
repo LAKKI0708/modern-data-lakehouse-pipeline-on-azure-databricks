{
 "cells": [
  {
   "cell_type": "code",
   "execution_count": 0,
   "metadata": {
    "application/vnd.databricks.v1+cell": {
     "cellMetadata": {
      "byteLimit": 2048000,
      "rowLimit": 10000
     },
     "inputWidgets": {},
     "nuid": "f27b9962-1789-4142-b6fe-bc39a86d937e",
     "showTitle": false,
     "tableResultSettingsMap": {},
     "title": ""
    }
   },
   "outputs": [],
   "source": [
    "datasets = [\n",
    "    {\n",
    "        \"file_name\" : \"customers\"\n",
    "    },\n",
    "    {\n",
    "        \"file_name\" : \"persons\"\n",
    "    },\n",
    "    {\n",
    "        \"file_name\" : \"productcategory\"\n",
    "    },\n",
    "    {\n",
    "        \"file_name\" : \"products\"\n",
    "    },\n",
    "    {\n",
    "        \"file_name\" : \"productsubcategory\"\n",
    "    },\n",
    "    {\n",
    "        \"file_name\" : \"salesorderdetails\"\n",
    "    },\n",
    "    {\n",
    "        \"file_name\" : \"salesorderheader\"\n",
    "    },\n",
    "    {\n",
    "        \"file_name\" : \"salesterritory\"\n",
    "    }\n",
    "]"
   ]
  },
  {
   "cell_type": "code",
   "execution_count": 0,
   "metadata": {
    "application/vnd.databricks.v1+cell": {
     "cellMetadata": {
      "byteLimit": 2048000,
      "rowLimit": 10000
     },
     "inputWidgets": {},
     "nuid": "95338a81-bd35-48b7-b7d3-27c25c16398b",
     "showTitle": false,
     "tableResultSettingsMap": {},
     "title": ""
    }
   },
   "outputs": [],
   "source": [
    "dbutils.jobs.taskValues.set(\"output_datasets\", datasets)"
   ]
  }
 ],
 "metadata": {
  "application/vnd.databricks.v1+notebook": {
   "computePreferences": null,
   "dashboards": [],
   "environmentMetadata": {
    "base_environment": "",
    "environment_version": "2"
   },
   "inputWidgetPreferences": null,
   "language": "python",
   "notebookMetadata": {
    "pythonIndentUnit": 4
   },
   "notebookName": "parameters",
   "widgets": {}
  },
  "language_info": {
   "name": "python"
  }
 },
 "nbformat": 4,
 "nbformat_minor": 0
}