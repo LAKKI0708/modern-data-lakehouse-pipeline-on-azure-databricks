{
 "cells": [
  {
   "cell_type": "code",
   "execution_count": 0,
   "metadata": {
    "application/vnd.databricks.v1+cell": {
     "cellMetadata": {
      "byteLimit": 2048000,
      "rowLimit": 10000
     },
     "inputWidgets": {},
     "nuid": "a013a924-82dc-467c-87b4-b50c97af1d24",
     "showTitle": false,
     "tableResultSettingsMap": {},
     "title": ""
    }
   },
   "outputs": [],
   "source": [
    "from pyspark import *\n",
    "from pyspark.sql import *\n",
    "from pyspark.sql.functions import *"
   ]
  },
  {
   "cell_type": "code",
   "execution_count": 0,
   "metadata": {
    "application/vnd.databricks.v1+cell": {
     "cellMetadata": {
      "byteLimit": 2048000,
      "rowLimit": 10000
     },
     "inputWidgets": {},
     "nuid": "008bd839-7edb-402f-af5a-5009937d627c",
     "showTitle": false,
     "tableResultSettingsMap": {},
     "title": ""
    }
   },
   "outputs": [
    {
     "output_type": "stream",
     "name": "stdout",
     "output_type": "stream",
     "text": [
      "0\n"
     ]
    }
   ],
   "source": [
    "dbutils.widgets.text(\"initial_load_flag\", \"0\")\n",
    "\n",
    "init_load_flag = int(dbutils.widgets.get(\"initial_load_flag\"))\n",
    "\n"
   ]
  },
  {
   "cell_type": "code",
   "execution_count": 0,
   "metadata": {
    "application/vnd.databricks.v1+cell": {
     "cellMetadata": {
      "byteLimit": 2048000,
      "rowLimit": 10000
     },
     "inputWidgets": {},
     "nuid": "612aefaa-0e6c-44af-9fe2-7d47a89c62d3",
     "showTitle": false,
     "tableResultSettingsMap": {},
     "title": ""
    }
   },
   "outputs": [],
   "source": [
    "df_customers = spark.read.table(\"advenworks_cata.silver.customers_silver\")\n",
    "df_customers.display()\n"
   ]
  },
  {
   "cell_type": "code",
   "execution_count": 0,
   "metadata": {
    "application/vnd.databricks.v1+cell": {
     "cellMetadata": {
      "byteLimit": 2048000,
      "rowLimit": 10000
     },
     "inputWidgets": {},
     "nuid": "2a6d4216-ada3-448d-a859-0fa09aeb9029",
     "showTitle": false,
     "tableResultSettingsMap": {},
     "title": ""
    }
   },
   "outputs": [],
   "source": [
    "df_customers = df_customers.dropDuplicates(subset=['CustomerID'])\n"
   ]
  },
  {
   "cell_type": "markdown",
   "metadata": {
    "application/vnd.databricks.v1+cell": {
     "cellMetadata": {
      "byteLimit": 2048000,
      "rowLimit": 10000
     },
     "inputWidgets": {},
     "nuid": "5b4fb4f9-f2f7-46b6-88ef-77d75129c45a",
     "showTitle": false,
     "tableResultSettingsMap": {},
     "title": ""
    }
   },
   "source": [
    "**NEW VS OLD RECORDS**"
   ]
  },
  {
   "cell_type": "code",
   "execution_count": 0,
   "metadata": {
    "application/vnd.databricks.v1+cell": {
     "cellMetadata": {
      "byteLimit": 2048000,
      "rowLimit": 10000
     },
     "inputWidgets": {},
     "nuid": "d2d8ced9-11a8-4d0e-832b-5fee23e1800d",
     "showTitle": false,
     "tableResultSettingsMap": {},
     "title": ""
    }
   },
   "outputs": [],
   "source": [
    "if init_load_flag == 0:\n",
    "\n",
    "  df_old =  spark.sql(''' select DimCustomerKey, CustomerID, create_date, update_date from advenworks_cata.gold.DimCustomers''')\n",
    "\n",
    "else:\n",
    "  df_old =  spark.sql(''' select 0 DimCustomerKey, 0 CustomerID, 0 create_date, 0 update_date from advenworks_cata.silver.customers_silver where 1=0''')"
   ]
  },
  {
   "cell_type": "markdown",
   "metadata": {
    "application/vnd.databricks.v1+cell": {
     "cellMetadata": {
      "byteLimit": 2048000,
      "rowLimit": 10000
     },
     "inputWidgets": {},
     "nuid": "de9fc7b3-2ee4-41d9-bc37-caed92a5d172",
     "showTitle": false,
     "tableResultSettingsMap": {},
     "title": ""
    }
   },
   "source": [
    "**Renaming Old Records Columns**"
   ]
  },
  {
   "cell_type": "code",
   "execution_count": 0,
   "metadata": {
    "application/vnd.databricks.v1+cell": {
     "cellMetadata": {
      "byteLimit": 2048000,
      "rowLimit": 10000
     },
     "inputWidgets": {},
     "nuid": "65c6e8c6-6b80-43ce-9c54-fb77e4f9da92",
     "showTitle": false,
     "tableResultSettingsMap": {},
     "title": ""
    }
   },
   "outputs": [],
   "source": [
    "df_old = df_old.withColumnRenamed('CustomerID', 'old_CustomerID')\\\n",
    "  .withColumnRenamed('create_date', 'old_create_date')\\\n",
    "  .withColumnRenamed('update_date', 'old_update_date')\\\n",
    "  .withColumnRenamed('DimCustomerKey', 'old_DimCustomerKey')"
   ]
  },
  {
   "cell_type": "code",
   "execution_count": 0,
   "metadata": {
    "application/vnd.databricks.v1+cell": {
     "cellMetadata": {
      "byteLimit": 2048000,
      "rowLimit": 10000
     },
     "inputWidgets": {},
     "nuid": "f3544560-bf14-4631-b3c6-a153ce5af8bc",
     "showTitle": false,
     "tableResultSettingsMap": {},
     "title": ""
    }
   },
   "outputs": [],
   "source": [
    "df_old.display()"
   ]
  },
  {
   "cell_type": "markdown",
   "metadata": {
    "application/vnd.databricks.v1+cell": {
     "cellMetadata": {
      "byteLimit": 2048000,
      "rowLimit": 10000
     },
     "inputWidgets": {},
     "nuid": "96aaf321-f087-4f7d-b909-034fcbbee61a",
     "showTitle": false,
     "tableResultSettingsMap": {},
     "title": ""
    }
   },
   "source": [
    "**Applying Join With Old Records**"
   ]
  },
  {
   "cell_type": "code",
   "execution_count": 0,
   "metadata": {
    "application/vnd.databricks.v1+cell": {
     "cellMetadata": {
      "byteLimit": 2048000,
      "rowLimit": 10000
     },
     "inputWidgets": {},
     "nuid": "b9d85cfc-c96d-4be6-a89c-589445b2c398",
     "showTitle": false,
     "tableResultSettingsMap": {},
     "title": ""
    }
   },
   "outputs": [],
   "source": [
    "df_joined = df_customers.join(df_old, df_customers.CustomerID == df_old.old_CustomerID, 'left')\n",
    "df_joined.display()"
   ]
  },
  {
   "cell_type": "markdown",
   "metadata": {
    "application/vnd.databricks.v1+cell": {
     "cellMetadata": {
      "byteLimit": 2048000,
      "rowLimit": 10000
     },
     "inputWidgets": {},
     "nuid": "accee3c0-544f-4f9a-8eec-14284f65daca",
     "showTitle": false,
     "tableResultSettingsMap": {},
     "title": ""
    }
   },
   "source": [
    "**Seperating New And Old Records**"
   ]
  },
  {
   "cell_type": "code",
   "execution_count": 0,
   "metadata": {
    "application/vnd.databricks.v1+cell": {
     "cellMetadata": {
      "byteLimit": 2048000,
      "rowLimit": 10000
     },
     "inputWidgets": {},
     "nuid": "8d3ba603-3f95-4e43-9b8c-1949bf56fdbd",
     "showTitle": false,
     "tableResultSettingsMap": {},
     "title": ""
    }
   },
   "outputs": [],
   "source": [
    "df_new = df_joined.filter(df_joined.old_DimCustomerKey.isNull())\n",
    "\n",
    "df_old = df_joined.filter(df_joined.old_DimCustomerKey.isNotNull())\n",
    "\n"
   ]
  },
  {
   "cell_type": "code",
   "execution_count": 0,
   "metadata": {
    "application/vnd.databricks.v1+cell": {
     "cellMetadata": {
      "byteLimit": 2048000,
      "rowLimit": 10000
     },
     "inputWidgets": {},
     "nuid": "d50e875a-13c4-4fcb-8d9f-9d66d3ce31c4",
     "showTitle": false,
     "tableResultSettingsMap": {},
     "title": ""
    }
   },
   "outputs": [
    {
     "output_type": "display_data",
     "data": {
      "text/html": [
       "<style scoped>\n",
       "  .table-result-container {\n",
       "    max-height: 300px;\n",
       "    overflow: auto;\n",
       "  }\n",
       "  table, th, td {\n",
       "    border: 1px solid black;\n",
       "    border-collapse: collapse;\n",
       "  }\n",
       "  th, td {\n",
       "    padding: 5px;\n",
       "  }\n",
       "  th {\n",
       "    text-align: left;\n",
       "  }\n",
       "</style><div class='table-result-container'><table class='table-result'><thead style='background-color: white'><tr><th>CustomerID</th><th>PersonID</th><th>StoreID</th><th>TerritoryID</th><th>AccountNumber</th><th>Customer_rowguid</th><th>Customer_ModifiedDate</th><th>Person_BusinessEntityID</th><th>PersonType</th><th>NameStyle</th><th>Title</th><th>Suffix</th><th>EmailPromotion</th><th>AdditionalContactInfo</th><th>Demographics</th><th>Person_rowguid</th><th>Person_ModifiedDate</th><th>FullName</th><th>DimCustomerKey</th><th>create_date</th><th>update_date</th></tr></thead><tbody></tbody></table></div>"
      ]
     },
     "metadata": {
      "application/vnd.databricks.v1+output": {
       "addedWidgets": {},
       "aggData": [],
       "aggError": "",
       "aggOverflow": false,
       "aggSchema": [],
       "aggSeriesLimitReached": false,
       "aggType": "",
       "arguments": {},
       "columnCustomDisplayInfos": {},
       "data": [],
       "datasetInfos": [],
       "dbfsResultPath": null,
       "isJsonSchema": true,
       "metadata": {},
       "overflow": false,
       "plotOptions": {
        "customPlotOptions": {},
        "displayType": "table",
        "pivotAggregation": null,
        "pivotColumns": null,
        "xColumns": null,
        "yColumns": null
       },
       "removedWidgets": [],
       "schema": [
        {
         "metadata": "{}",
         "name": "CustomerID",
         "type": "\"long\""
        },
        {
         "metadata": "{}",
         "name": "PersonID",
         "type": "\"double\""
        },
        {
         "metadata": "{}",
         "name": "StoreID",
         "type": "\"double\""
        },
        {
         "metadata": "{}",
         "name": "TerritoryID",
         "type": "\"long\""
        },
        {
         "metadata": "{}",
         "name": "AccountNumber",
         "type": "\"string\""
        },
        {
         "metadata": "{}",
         "name": "Customer_rowguid",
         "type": "\"string\""
        },
        {
         "metadata": "{}",
         "name": "Customer_ModifiedDate",
         "type": "\"timestamp\""
        },
        {
         "metadata": "{}",
         "name": "Person_BusinessEntityID",
         "type": "\"long\""
        },
        {
         "metadata": "{}",
         "name": "PersonType",
         "type": "\"string\""
        },
        {
         "metadata": "{}",
         "name": "NameStyle",
         "type": "\"long\""
        },
        {
         "metadata": "{}",
         "name": "Title",
         "type": "\"string\""
        },
        {
         "metadata": "{}",
         "name": "Suffix",
         "type": "\"string\""
        },
        {
         "metadata": "{}",
         "name": "EmailPromotion",
         "type": "\"long\""
        },
        {
         "metadata": "{}",
         "name": "AdditionalContactInfo",
         "type": "\"string\""
        },
        {
         "metadata": "{}",
         "name": "Demographics",
         "type": "\"string\""
        },
        {
         "metadata": "{}",
         "name": "Person_rowguid",
         "type": "\"string\""
        },
        {
         "metadata": "{}",
         "name": "Person_ModifiedDate",
         "type": "\"timestamp\""
        },
        {
         "metadata": "{}",
         "name": "FullName",
         "type": "\"string\""
        },
        {
         "metadata": "{}",
         "name": "DimCustomerKey",
         "type": "\"integer\""
        },
        {
         "metadata": "{}",
         "name": "create_date",
         "type": "\"timestamp\""
        },
        {
         "metadata": "{}",
         "name": "update_date",
         "type": "\"timestamp\""
        }
       ],
       "type": "table"
      }
     },
     "output_type": "display_data"
    }
   ],
   "source": [
    "df_old = df_old.drop('old_CustomerID','old_update_date')\n",
    "\n",
    "df_old = df_old.withColumnRenamed(\"old_DimCustomerKey\",\"DimCustomerKey\")\n",
    "df_old = df_old.withColumnRenamed(\"old_create_date\",\"create_date\")\n",
    "\n",
    "df_old = df_old.withColumn(\"create_date\",to_timestamp(col(\"create_date\")))\n",
    "\n",
    "\n",
    "df_old = df_old.withColumn(\"update_date\", current_timestamp())\n",
    "df_old.display()"
   ]
  },
  {
   "cell_type": "code",
   "execution_count": 0,
   "metadata": {
    "application/vnd.databricks.v1+cell": {
     "cellMetadata": {
      "byteLimit": 2048000,
      "rowLimit": 10000
     },
     "inputWidgets": {},
     "nuid": "7cdef208-713e-4a74-9bac-1bdef21780aa",
     "showTitle": false,
     "tableResultSettingsMap": {},
     "title": ""
    }
   },
   "outputs": [],
   "source": [
    "df_new = df_new.drop('old_DimCustomerKey', 'old_CustomerID','old_create_date','old_update_date')\n",
    "\n",
    "df_new = df_new.withColumn(\"create_date\", current_timestamp())\n",
    "df_new = df_new.withColumn(\"update_date\", current_timestamp())\n",
    "df_new.display()"
   ]
  },
  {
   "cell_type": "code",
   "execution_count": 0,
   "metadata": {
    "application/vnd.databricks.v1+cell": {
     "cellMetadata": {
      "byteLimit": 2048000,
      "rowLimit": 10000
     },
     "inputWidgets": {},
     "nuid": "5979b4a5-f06e-4b92-ac62-aaffcb2274d7",
     "showTitle": false,
     "tableResultSettingsMap": {},
     "title": ""
    }
   },
   "outputs": [],
   "source": [
    "df_new.display()"
   ]
  },
  {
   "cell_type": "markdown",
   "metadata": {
    "application/vnd.databricks.v1+cell": {
     "cellMetadata": {
      "byteLimit": 2048000,
      "rowLimit": 10000
     },
     "inputWidgets": {},
     "nuid": "8b3ad514-8ade-49a2-b374-aac2bef77ee0",
     "showTitle": false,
     "tableResultSettingsMap": {},
     "title": ""
    }
   },
   "source": [
    "**Adding dimcustomerkey to the df_new from 1**"
   ]
  },
  {
   "cell_type": "code",
   "execution_count": 0,
   "metadata": {
    "application/vnd.databricks.v1+cell": {
     "cellMetadata": {
      "byteLimit": 2048000,
      "rowLimit": 10000
     },
     "inputWidgets": {},
     "nuid": "049c5ee1-090c-42b1-8d85-cb0d5e3f426d",
     "showTitle": false,
     "tableResultSettingsMap": {},
     "title": ""
    }
   },
   "outputs": [],
   "source": [
    "df_new = df_new.withColumn(\"DimCustomerKey\", monotonically_increasing_id()+lit(1))"
   ]
  },
  {
   "cell_type": "code",
   "execution_count": 0,
   "metadata": {
    "application/vnd.databricks.v1+cell": {
     "cellMetadata": {
      "byteLimit": 2048000,
      "rowLimit": 10000
     },
     "inputWidgets": {},
     "nuid": "95f31522-0ea7-45f5-8dda-e468596265a5",
     "showTitle": false,
     "tableResultSettingsMap": {},
     "title": ""
    }
   },
   "outputs": [],
   "source": [
    "if init_load_flag == 1:\n",
    "    max_surrogate_key = 0\n",
    "else:\n",
    "    max_surr = spark.sql(\"select max(DimCustomerKey) as max_surrogate_key from advenworks_cata.gold.DimCustomers\")\n",
    "    max_surrogate_key = max_surr.collect()[0]['max_surrogate_key']"
   ]
  },
  {
   "cell_type": "code",
   "execution_count": 0,
   "metadata": {
    "application/vnd.databricks.v1+cell": {
     "cellMetadata": {
      "byteLimit": 2048000,
      "rowLimit": 10000
     },
     "inputWidgets": {},
     "nuid": "81f4b45b-d4eb-4197-acfd-974b57054475",
     "showTitle": false,
     "tableResultSettingsMap": {},
     "title": ""
    }
   },
   "outputs": [],
   "source": [
    "df_new = df_new.withColumn(\"DimCustomerKey\", df_new[\"DimCustomerKey\"]+max_surrogate_key)"
   ]
  },
  {
   "cell_type": "markdown",
   "metadata": {
    "application/vnd.databricks.v1+cell": {
     "cellMetadata": {
      "byteLimit": 2048000,
      "rowLimit": 10000
     },
     "inputWidgets": {},
     "nuid": "f6f8e964-6770-4926-8be2-aa82f3f3db56",
     "showTitle": false,
     "tableResultSettingsMap": {},
     "title": ""
    }
   },
   "source": [
    "**Union of df_new and df_old**"
   ]
  },
  {
   "cell_type": "code",
   "execution_count": 0,
   "metadata": {
    "application/vnd.databricks.v1+cell": {
     "cellMetadata": {
      "byteLimit": 2048000,
      "rowLimit": 10000
     },
     "inputWidgets": {},
     "nuid": "61f380ed-c16b-4240-890e-38d81ec8a1e9",
     "showTitle": false,
     "tableResultSettingsMap": {},
     "title": ""
    }
   },
   "outputs": [],
   "source": [
    "df_final = df_new.unionByName(df_old)\n"
   ]
  },
  {
   "cell_type": "code",
   "execution_count": 0,
   "metadata": {
    "application/vnd.databricks.v1+cell": {
     "cellMetadata": {
      "byteLimit": 2048000,
      "rowLimit": 10000
     },
     "inputWidgets": {},
     "nuid": "633a8d23-13a2-489b-b70e-4e6c5c694b0b",
     "showTitle": false,
     "tableResultSettingsMap": {},
     "title": ""
    }
   },
   "outputs": [],
   "source": [
    "df_final.display()"
   ]
  },
  {
   "cell_type": "markdown",
   "metadata": {
    "application/vnd.databricks.v1+cell": {
     "cellMetadata": {
      "byteLimit": 2048000,
      "rowLimit": 10000
     },
     "inputWidgets": {},
     "nuid": "32f4fef3-924f-44fc-ad35-4779486670a4",
     "showTitle": false,
     "tableResultSettingsMap": {},
     "title": ""
    }
   },
   "source": [
    "**SCD TYPE 1**"
   ]
  },
  {
   "cell_type": "code",
   "execution_count": 0,
   "metadata": {
    "application/vnd.databricks.v1+cell": {
     "cellMetadata": {
      "byteLimit": 2048000,
      "rowLimit": 10000
     },
     "inputWidgets": {},
     "nuid": "4965f6f8-f572-43ea-92c1-a785816ccf9e",
     "showTitle": false,
     "tableResultSettingsMap": {},
     "title": ""
    }
   },
   "outputs": [],
   "source": [
    "from delta.tables import DeltaTable\n",
    "\n",
    "if spark.catalog.tableExists(\"advenworks_cata.gold.DimCustomers\"):\n",
    "    dlt_obj = DeltaTable.forPath(spark, \"abfss://gold@advenworksdl.dfs.core.windows.net/DimCustomers\")\n",
    "    dlt_obj.alias(\"trg\").merge(df_final.alias(\"src\"), \"trg.DimCustomerKey == src.DimCustomerKey\")\\\n",
    "        .whenMatchedUpdateAll()\\\n",
    "        .whenNotMatchedInsertAll()\\\n",
    "        .execute()\n",
    "        \n",
    "else:\n",
    "    df_final.write.mode(\"overwrite\")\\\n",
    "        .format(\"delta\")\\\n",
    "        .option(\"path\",\"abfss://gold@advenworksdl.dfs.core.windows.net/DimCustomers\")\\\n",
    "        .saveAsTable(\"advenworks_cata.gold.DimCustomers\")"
   ]
  }
 ],
 "metadata": {
  "application/vnd.databricks.v1+notebook": {
   "computePreferences": null,
   "dashboards": [],
   "environmentMetadata": {
    "base_environment": "",
    "environment_version": "2"
   },
   "inputWidgetPreferences": null,
   "language": "python",
   "notebookMetadata": {
    "pythonIndentUnit": 4
   },
   "notebookName": "gold_customer",
   "widgets": {
    "initial_load_flag": {
     "currentValue": "0",
     "nuid": "fe7a8abc-daab-4c85-9760-c8f5dbd0886d",
     "typedWidgetInfo": {
      "autoCreated": false,
      "defaultValue": "",
      "label": "",
      "name": "initial_load_flag",
      "options": {
       "widgetDisplayType": "Text",
       "validationRegex": null
      },
      "parameterDataType": "String"
     },
     "widgetInfo": {
      "widgetType": "text",
      "defaultValue": "",
      "label": "",
      "name": "initial_load_flag",
      "options": {
       "widgetType": "text",
       "autoCreated": false,
       "validationRegex": null
      }
     }
    }
   }
  },
  "language_info": {
   "name": "python"
  }
 },
 "nbformat": 4,
 "nbformat_minor": 0
}